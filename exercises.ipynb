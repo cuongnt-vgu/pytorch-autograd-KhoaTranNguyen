{
 "cells": [
  {
   "cell_type": "code",
   "execution_count": 1,
   "metadata": {},
   "outputs": [],
   "source": [
    "from torch import nn\n",
    "import torch"
   ]
  },
  {
   "cell_type": "markdown",
   "metadata": {},
   "source": [
    "##### Attention:\n",
    "For this lab, there are no local answers for the questions in learntools. However, there are some assertions for the first 4 questions. You should pass all of the assertions before submitting to the autograding.\n",
    "\n",
    "Some of the questions use mathematical symbols and equations to depict the scenario. These are just some basic \"formal\" definitions and you should understand them. In case you haven't understood them, read again and give yourself sometime to ponder. If there is any error or details in the questions that heavily confuse you, please post your concerns on Google Classroom. "
   ]
  },
  {
   "cell_type": "markdown",
   "metadata": {},
   "source": [
    "## Questions"
   ]
  },
  {
   "cell_type": "markdown",
   "metadata": {},
   "source": [
    "### Q1: Given a function $f(x) = x^2 + 3x + 8$, return the gradient of $x$ when $x=2.0$ using pytorch autograd. The gradient tensor should have type torch.float32 and dim=0."
   ]
  },
  {
   "cell_type": "code",
   "execution_count": 2,
   "metadata": {},
   "outputs": [],
   "source": [
    "def exercise_1() -> torch.Tensor:\n",
    "    x = torch.tensor(2.0, requires_grad=True)\n",
    "    f = x**2 + 3*x + 8\n",
    "    f.backward()\n",
    "    return x.grad\n",
    "\n",
    "ex1_sol = exercise_1()\n",
    "assert torch.equal(ex1_sol, torch.tensor(7.0))"
   ]
  },
  {
   "cell_type": "markdown",
   "metadata": {},
   "source": [
    "### Q2: A typical layer in a Neural Network would look like $f(x) = w_1 x_1 + w_2 x_2 + w_3 x_3 + ... + b$, where $w_j$ is the j-th weight of the function and $b$ is its bias. This function outputs a result for a multi-dimension input, where $x_j$ is the j-th feature of the input. Implement this function, return the gradients of each weight for a given input `x` and the output using `tuple` with the formar `(output, weight_grads_tensor)`. The weights should be randomized using `torch.randn()` and the bias must be set to $5.0$. The input used by the autograder will be the same size as the one given below."
   ]
  },
  {
   "cell_type": "code",
   "execution_count": 3,
   "metadata": {},
   "outputs": [],
   "source": [
    "x = torch.tensor([1, 2, 3, 4, 5])\n",
    "\n",
    "def exercise_2(x) -> tuple:\n",
    "    # all the output and gradients are tensors\n",
    "\n",
    "    torch.manual_seed(0) # must set seed=0 before random your weight\n",
    "    weights = torch.randn(5, dtype=torch.float32, requires_grad=True)\n",
    "    bias = torch.tensor(5.0)\n",
    "\n",
    "    f = (weights*x).sum() + bias\n",
    "    f.backward()\n",
    "    \n",
    "    return (f, weights.grad)\n",
    "    # you must return in this format\n",
    "    # return (output, weight_grads_tensor)\n",
    "\n",
    "ex2_sol = exercise_2(x)\n",
    "\n",
    "assert (ex2_sol[0] - torch.tensor(-3.7311) < 1e-4).item()\n",
    "assert torch.equal(ex2_sol[1], torch.tensor([1, 2, 3, 4, 5], dtype=torch.float32))"
   ]
  },
  {
   "cell_type": "markdown",
   "metadata": {},
   "source": [
    "### Q3: Suppose each feature $x_j$ needs a separate function $f_j(x_j)$, where $f_j(x_j) = w_j x_j + b_j$. In other words, each feature requires a function, which has a separate set of 1 weight and 1 bias. Therefore, the output $y$ of your function $G(x)=[f_1(x_1), f_2(x_2), ..., f_n(x_n)]$ should be $y = [(w_1 x_1 + b_1), (w_2 x_2 + b_2), ..., (w_n x_n + b_n)]$ (**note:** these are matrices written lazily with markdown). Implement the function $G(x)$, return the output and the gradient sets for each function for a given `x`. The weights should be randomized using `torch.randn()`, and the bias is the same as $j$ of $f_j()$ (for example: $b_1 = 1.0$, $b_2 = 2.0$). The input used by the autograder will be the same size as the one given below."
   ]
  },
  {
   "cell_type": "code",
   "execution_count": 5,
   "metadata": {},
   "outputs": [],
   "source": [
    "x = torch.tensor([1, 2, 3, 4, 5])\n",
    "\n",
    "def exercise_3(x) -> tuple:\n",
    "     # all the output and gradients are tensors\n",
    "    \n",
    "    torch.manual_seed(0) # must set seed=0 before random your weight\n",
    "    weights = torch.randn(len(x), dtype=torch.float32, requires_grad=True)\n",
    "    bias = torch.arange(1,len(x)+1, dtype=torch.float32)\n",
    "    y = weights*x + bias\n",
    "    y.backward(torch.ones(len(x)))\n",
    "    return (y, weights.grad)\n",
    "\n",
    "    # raise NotImplementedError\n",
    "    # you must return in this format\n",
    "    # return (output, weight_grads_tensor)\n",
    "\n",
    "ex3_sol = exercise_3(x)\n",
    "assert torch.all((ex3_sol[0] - torch.tensor([ 2.5410,  1.4131, -3.5364,  6.2737, -0.4226 ], dtype=torch.float32)) < 5e-4).item()\n",
    "assert torch.equal(ex3_sol[1], torch.tensor([1, 2, 3, 4, 5], dtype=torch.float32))\n",
    "# q3.check()"
   ]
  },
  {
   "cell_type": "markdown",
   "metadata": {},
   "source": [
    "### Q4: Using the function $f(x)$ similar to the one in question 2, implement the function with random weights and bias (must use `torch.manual_seed(0)` before each initialization). Calculate the Mean Squared Error between the `target` and your function prediction on the `data` as a loss metric, then return a tuple containing the gradients of your function weights and bias based on the calculated loss."
   ]
  },
  {
   "cell_type": "code",
   "execution_count": 4,
   "metadata": {},
   "outputs": [
    {
     "name": "stdout",
     "output_type": "stream",
     "text": [
      "tensor([-21.4256], grad_fn=<AddBackward0>)\n"
     ]
    }
   ],
   "source": [
    "data = torch.tensor([2.0, 3.0, 4.0, 5.0, 6.0, 7.0, 8.0, 9.0, 10.0, 11.0])\n",
    "target = torch.tensor([2.0])\n",
    "\n",
    "def exercise_4(data, target) -> tuple:\n",
    "    # both gradients are tensors\n",
    "    torch.manual_seed(0) # must set seed=0 before random your weight\n",
    "    weights = torch.randn(10, dtype=torch.float32, requires_grad=True)\n",
    "    bias = torch.randn(1, dtype=torch.float32, requires_grad=True)\n",
    "\n",
    "    pred = (weights@data) + bias\n",
    "    print(pred)\n",
    "    loss = torch.mean((pred - target) ** 2)\n",
    "    loss.backward()\n",
    "\n",
    "    return(weights.grad, bias.grad)\n",
    "\n",
    "    # raise NotImplementedError\n",
    "    # you must return in this format\n",
    "    # return (weight_grads_tensor, bias_grads_tensor)\n",
    "\n",
    "ex4_sol = exercise_4(data, target)\n",
    "assert ex4_sol[0].dim() == 1 and ex4_sol[1].dim() == 1, print(\"All tensors must have dim == 1\")\n",
    "assert torch.all((ex4_sol[0] - torch.tensor([-85.1518, -127.7277, -170.3036, -212.8795, -255.4553, -298.0312, -340.6071, -383.1830, -425.7589, -468.3348], dtype=torch.float32)) < 5e-4)\n",
    "assert torch.all((ex4_sol[1] - torch.tensor([-42.5759], dtype=torch.float32)) < 5e-4)"
   ]
  },
  {
   "cell_type": "markdown",
   "metadata": {},
   "source": [
    "### Q5: This question worth 40% the points of this lab. Your solution for this question will be graded manually by the TAs, hence you will be informed later for the total points for this lab after the deadline has been met."
   ]
  },
  {
   "cell_type": "markdown",
   "metadata": {},
   "source": [
    "**Note**: This question will not focus on getting the right results as your implementation is more important. Therefore there will be no local answer or autograding."
   ]
  },
  {
   "cell_type": "markdown",
   "metadata": {},
   "source": [
    "#### Create a small neural network consisting 2 Linear layers, each followed by a Sigmoid activation function. The template code has been provided below including the return format (`x` should be replaced by the final `tensor` after the forward pass). Your code must use layers and functions provided by `pytorch`. Initialize all necessary components that can be used during the training phase including a Binary Cross Entropy Loss function and a Gradient Descent optimizer. Train your model for 2 epochs with a proper train loop, then make a prediction on a given `val_x` and return your prediction."
   ]
  },
  {
   "cell_type": "markdown",
   "metadata": {},
   "source": [
    "**Note**: the first Linear Layer can have any `in_features` and `out_features`, but the last Linear Layer must have `out_features=2`. Your model will consume the whole input for each epoch, so you don't need to separate the input into batches."
   ]
  },
  {
   "cell_type": "markdown",
   "metadata": {},
   "source": [
    "*Context*: This part is not necessary for your implementation, but it could help you to understand the work that your network is simulating. The `train_x` consists grades for 5 subjects of 20 students, with the minimum grade is 1 and the maximum is 10. The problem is a classification task, when your model predicts if a student is good or bad based on their 5 grades. That is the reason why the final layer must have 2 output features, which correspond to the 2 classes \"good\" and \"bad\"."
   ]
  },
  {
   "cell_type": "code",
   "execution_count": 62,
   "metadata": {},
   "outputs": [
    {
     "name": "stdout",
     "output_type": "stream",
     "text": [
      "Adam - Epoch 1, Loss: 0.6278\n",
      "Adam - Epoch 2, Loss: 0.6032\n",
      "True val classes: ['bad', 'bad', 'bad', 'bad', 'bad', 'bad', 'good', 'bad', 'good', 'bad']\n",
      "Predicted classes: ['bad', 'bad', 'bad', 'bad', 'good', 'bad', 'bad', 'bad', 'good', 'good']\n",
      "Accuracy: 70.00%\n"
     ]
    },
    {
     "data": {
      "image/png": "[encoded data removed]",
      "text/plain": [
       "<Figure size 800x500 with 1 Axes>"
      ]
     },
     "metadata": {},
     "output_type": "display_data"
    }
   ],
   "source": [
    "train_x = torch.randint(1, 10, (20, 5), dtype=torch.float32) # input\n",
    "train_y = (train_x.sum(1) > 30).float() # target, which means the total score of 5 subjects for each student must > 30, in order to be True 1.0, or False 0.0 otherwise\n",
    "\n",
    "val_x = torch.randint(3, 10, (10, 5), dtype=torch.float32)\n",
    "\n",
    "def exercise_5(train_x, train_y, val_x) -> torch.Tensor:\n",
    "    import torch\n",
    "    import torch.nn as nn\n",
    "    import torch.nn.functional as F\n",
    "\n",
    "    class MyNetwork(nn.Module):\n",
    "        def __init__(self):\n",
    "            super().__init__()\n",
    "            self.linear1 = nn.Linear(5, 6)\n",
    "            self.linear2 = nn.Linear(6, 2) # 2 output features\n",
    "\n",
    "        def forward(self, x):\n",
    "            x = torch.sigmoid(self.linear1(x))\n",
    "            x = torch.sigmoid(self.linear2(x))\n",
    "            return x\n",
    "\n",
    "    # Prepare labels\n",
    "    train_y_onehot = F.one_hot(train_y.long(), num_classes=2).float()\n",
    "\n",
    "    # Loss function\n",
    "    loss_fn = nn.BCELoss()\n",
    "\n",
    "    # Track loss history\n",
    "    loss_history = {}\n",
    "\n",
    "    # Model and Adam optimizer\n",
    "    name = \"Adam\"\n",
    "    model = MyNetwork()\n",
    "    optimizer = torch.optim.Adam(model.parameters(), lr=0.01)\n",
    "    losses = []\n",
    "    \n",
    "    for e in range(2):\n",
    "        model.train()\n",
    "        predicted_probs = model(train_x)\n",
    "        loss = loss_fn(predicted_probs, train_y_onehot)\n",
    "        optimizer.zero_grad()\n",
    "        loss.backward()\n",
    "        optimizer.step()\n",
    "\n",
    "        losses.append(loss.item())\n",
    "        print(f\"{name} - Epoch {e+1}, Loss: {loss.item():.4f}\")\n",
    "\n",
    "    loss_history[name] = losses\n",
    "\n",
    "    # Evaluation\n",
    "    model.eval()\n",
    "    with torch.no_grad():\n",
    "        val_preds = model(val_x)\n",
    "        predictions = (val_preds[:,1] >= 0.5).int()\n",
    "\n",
    "        class_map = {0: \"bad\", 1: \"good\"}\n",
    "        predicted_classes = [class_map[int(c.item())] for c in predictions]\n",
    "\n",
    "        true_labels = (val_x.sum(1) > 30).int()\n",
    "        true_val_classes = [class_map[int(c.item())] for c in true_labels]\n",
    "\n",
    "        print(\"True val classes:\", true_val_classes)\n",
    "        print(\"Predicted classes:\", predicted_classes)\n",
    "\n",
    "        accuracy = (predictions == true_labels).float().mean().item() * 100\n",
    "        print(f\"Accuracy: {accuracy:.2f}%\")\n",
    "\n",
    "\n",
    "    # Visualization\n",
    "    import matplotlib.pyplot as plt\n",
    "    plt.figure(figsize=(8, 5))\n",
    "    for name, losses in loss_history.items():\n",
    "        plt.plot(losses, label=name)\n",
    "    plt.title(\"Optimizer Loss Comparison\")\n",
    "    plt.xlabel(\"Epoch\")\n",
    "    plt.ylabel(\"Loss\")\n",
    "    plt.legend()\n",
    "    plt.grid(True)\n",
    "    plt.show()\n",
    "\n",
    "    return predictions\n",
    "\n",
    "\n",
    "ex5_sol = exercise_5(train_x=train_x, train_y=train_y, val_x=val_x)\n",
    "# print(train_x)"
   ]
  }
 ],
 "metadata": {
  "kernelspec": {
   "display_name": "Python 3",
   "language": "python",
   "name": "python3"
  },
  "language_info": {
   "codemirror_mode": {
    "name": "ipython",
    "version": 3
   },
   "file_extension": ".py",
   "mimetype": "text/x-python",
   "name": "python",
   "nbconvert_exporter": "python",
   "pygments_lexer": "ipython3",
   "version": "3.9.13"
  }
 },
 "nbformat": 4,
 "nbformat_minor": 2
}
